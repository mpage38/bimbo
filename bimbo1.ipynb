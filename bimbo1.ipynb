{
 "cells": [
  {
   "cell_type": "markdown",
   "metadata": {},
   "source": [
    "## Grupo Bimbo Inventory Demand\n",
    "https://www.kaggle.com/c/grupo-bimbo-inventory-demand\n",
    "\n",
    "E-commerce website: http://blumonpay.net/bimbo/"
   ]
  },
  {
   "cell_type": "code",
   "execution_count": null,
   "metadata": {
    "collapsed": true
   },
   "outputs": [],
   "source": [
    "dir = \"C:/github/kaggle-fiddling/bimbo/\""
   ]
  },
  {
   "cell_type": "code",
   "execution_count": 1,
   "metadata": {
    "collapsed": false
   },
   "outputs": [
    {
     "name": "stdout",
     "output_type": "stream",
     "text": [
      "In [1] used 0.0156 MiB RAM in 0.11s, peaked 0.00 MiB above current, total RAM usage 74.07 MiB\n"
     ]
    }
   ],
   "source": [
    "import numpy as np \n",
    "import pandas as pd \n",
    "import bcolz\n",
    "\n",
    "import ipython_memory_usage as imu\n",
    "imu.start_watching_memory()\n",
    "\n",
    "bcolz.blosc_set_nthreads(8)"
   ]
  },
  {
   "cell_type": "code",
   "execution_count": 2,
   "metadata": {
    "collapsed": false
   },
   "outputs": [
    {
     "name": "stdout",
     "output_type": "stream",
     "text": [
      "In [2] used 2337.8398 MiB RAM in 48.34s, peaked 4397.83 MiB above current, total RAM usage 2411.91 MiB\n"
     ]
    }
   ],
   "source": [
    "# read from CSV ; comment-in next lines when done\n",
    "train = pd.read_csv(dir + 'train.csv', dtype={\n",
    "    'Semana': np.int8,\n",
    "    'Agencia_ID': np.int32,\n",
    "    'Canal_ID': np.int16,\n",
    "    'Ruta_SAK': np.int16,\n",
    "    'Cliente_ID': np.int64,\n",
    "    'Producto_ID': np.int32,\n",
    "    'Venta_uni_hoy': np.int16,\n",
    "    'Venta_hoy': np.float16,\n",
    "    'Dev_uni_proxima': np.int32,\n",
    "    'Dev_proxima': np.float16,\n",
    "    'Demanda_uni_equil': np.int16\n",
    "})"
   ]
  },
  {
   "cell_type": "code",
   "execution_count": 3,
   "metadata": {
    "collapsed": false
   },
   "outputs": [
    {
     "data": {
      "text/plain": [
       "ctable((74180464,), [('Semana', 'i1'), ('Agencia_ID', '<i4'), ('Canal_ID', '<i2'), ('Ruta_SAK', '<i2'), ('Cliente_ID', '<i8'), ('Producto_ID', '<i4'), ('Venta_uni_hoy', '<i2'), ('Venta_hoy', '<f2'), ('Dev_uni_proxima', '<i4'), ('Dev_proxima', '<f2'), ('Demanda_uni_equil', '<i2')])\n",
       "  nbytes: 2.28 GB; cbytes: 586.13 MB; ratio: 3.98\n",
       "  cparams := cparams(clevel=5, shuffle=1, cname='blosclz')\n",
       "  rootdir := 'C:/github/kaggle-fiddling/bimbo/train.bcolz'\n",
       "[(3, 1110, 7, 3301, 15766, 1212, 3, 25.140625, 0, 0.0, 3)\n",
       " (3, 1110, 7, 3301, 15766, 1216, 4, 33.53125, 0, 0.0, 4)\n",
       " (3, 1110, 7, 3301, 15766, 1238, 4, 39.3125, 0, 0.0, 4) ...,\n",
       " (9, 25759, 1, 5517, 4528866, 45112, 4, 51.0, 0, 0.0, 4)\n",
       " (9, 25759, 1, 5517, 4547943, 40217, 3, 26.9375, 3, 26.9375, 0)\n",
       " (9, 25759, 1, 5517, 4708097, 43159, 1, 10.3984375, 0, 0.0, 1)]"
      ]
     },
     "execution_count": 3,
     "metadata": {},
     "output_type": "execute_result"
    },
    {
     "name": "stdout",
     "output_type": "stream",
     "text": [
      "In [3] used 596.2227 MiB RAM in 11.36s, peaked 0.00 MiB above current, total RAM usage 3008.14 MiB\n"
     ]
    }
   ],
   "source": [
    "# generate bcolz file; comment-in next lines when done\n",
    "zTrain = bcolz.ctable.fromdataframe(train)\n",
    "zTrain.copy(rootdir=dir+\"train.bcolz\", mode='w')"
   ]
  },
  {
   "cell_type": "code",
   "execution_count": 6,
   "metadata": {
    "collapsed": false
   },
   "outputs": [
    {
     "data": {
      "text/html": [
       "<div>\n",
       "<table border=\"1\" class=\"dataframe\">\n",
       "  <thead>\n",
       "    <tr style=\"text-align: right;\">\n",
       "      <th></th>\n",
       "      <th>Agencia_ID</th>\n",
       "    </tr>\n",
       "    <tr>\n",
       "      <th>Semana</th>\n",
       "      <th></th>\n",
       "    </tr>\n",
       "  </thead>\n",
       "  <tbody>\n",
       "    <tr>\n",
       "      <th>3</th>\n",
       "      <td>11165207</td>\n",
       "    </tr>\n",
       "    <tr>\n",
       "      <th>4</th>\n",
       "      <td>11009593</td>\n",
       "    </tr>\n",
       "    <tr>\n",
       "      <th>5</th>\n",
       "      <td>10615397</td>\n",
       "    </tr>\n",
       "    <tr>\n",
       "      <th>6</th>\n",
       "      <td>10191837</td>\n",
       "    </tr>\n",
       "    <tr>\n",
       "      <th>7</th>\n",
       "      <td>10382849</td>\n",
       "    </tr>\n",
       "    <tr>\n",
       "      <th>8</th>\n",
       "      <td>10406868</td>\n",
       "    </tr>\n",
       "    <tr>\n",
       "      <th>9</th>\n",
       "      <td>10408713</td>\n",
       "    </tr>\n",
       "  </tbody>\n",
       "</table>\n",
       "</div>"
      ],
      "text/plain": [
       "        Agencia_ID\n",
       "Semana            \n",
       "3         11165207\n",
       "4         11009593\n",
       "5         10615397\n",
       "6         10191837\n",
       "7         10382849\n",
       "8         10406868\n",
       "9         10408713"
      ]
     },
     "execution_count": 6,
     "metadata": {},
     "output_type": "execute_result"
    },
    {
     "name": "stdout",
     "output_type": "stream",
     "text": [
      "In [6] used 0.0547 MiB RAM in 2.60s, peaked 2349.43 MiB above current, total RAM usage 3008.50 MiB\n"
     ]
    }
   ],
   "source": [
    "train[['Semana','Agencia_ID']].groupby('Semana').count()"
   ]
  },
  {
   "cell_type": "code",
   "execution_count": 7,
   "metadata": {
    "collapsed": false
   },
   "outputs": [
    {
     "name": "stdout",
     "output_type": "stream",
     "text": [
      "Couldn't find program: 'python2'\n",
      "In [7] used 0.0391 MiB RAM in 0.12s, peaked 0.00 MiB above current, total RAM usage 3008.54 MiB\n"
     ]
    }
   ],
   "source": [
    "%%python2\n",
    "print 'ok'"
   ]
  },
  {
   "cell_type": "code",
   "execution_count": null,
   "metadata": {
    "collapsed": true
   },
   "outputs": [],
   "source": [
    "import dataextract as tde\n",
    "#module os - to delete files when we need to\n",
    "import csv,os,datetime\n",
    "import locale\n",
    "import os.path\n",
    "import time\n",
    "locale.setlocale( locale.LC_ALL, 'English_United States.1252' )\n",
    " \n",
    "#Step 1: Create the extract file\n",
    " \n",
    "# if running the script multiple times\n",
    "# path - name of the extract\n",
    "path = dir+'train.tde'\n",
    " \n",
    "#if the file exists and is readable then it creates new file\n",
    "if os.path.isfile(PATH) and os.access(PATH, os.R_OK):\n",
    "   # File exists and is readable\n",
    "    os.remove(path)\n",
    "    tdefile = tde.Extract(path)\n",
    " \n",
    "else:\n",
    "   # Either file is missing or is not readable - create new file\n",
    "    tdefile = tde.Extract(path)\n",
    " \n",
    " \n",
    "# open csv file\n",
    "csvReader = csv.reader(open(dir+'train.csv','rb'), delimiter=';',quotechar='\"')\n",
    " \n",
    "#Step 2: Create the tabledef\n",
    "tableDef = tde.TableDefinition()\n",
    "tableDef.addColumn('Semana', tde.Type.INTEGER) \n",
    "tableDef.addColumn('Agencia_ID', tde.Type.INTEGER) \n",
    "tableDef.addColumn('Canal_ID', tde.Type.INTEGER) \n",
    "tableDef.addColumn('Ruta_SAK', tde.Type.INTEGER) \n",
    "tableDef.addColumn('Cliente_ID', tde.Type.INTEGER)\n",
    "tableDef.addColumn('Producto_ID', tde.Type.INTEGER) \n",
    "tableDef.addColumn('Venta_uni_hoy', tde.Type.INTEGER) \n",
    "tableDef.addColumn('Venta_hoy', tde.Type.DOUBLE) \n",
    "tableDef.addColumn('Dev_uni_proxima', tde.Type.INTEGER) \n",
    "tableDef.addColumn('Dev_proxima', tde.Type.DOUBLE) \n",
    "tableDef.addColumn('Demanda_uni_equil Name', tde.Type.INTEGER) \n",
    "\n",
    "        \n",
    "#func returns the proper float number\n",
    "def floatNum( num ):\n",
    "   return float(num.replace(\",\", \".\"))\n",
    " \n",
    " \n",
    "#Step 3: Create the table in the image of the tableDef\n",
    "table = tdefile.addTable('Extract',tableDef)\n",
    " \n",
    "#Step 4: Loop through the csv, grab all the data, put it into rows\n",
    "#and insert the rows in the table\n",
    "newrow = tde.Row(tableDef)\n",
    "#going to the next row (skip the headers, take the data only\n",
    "csvReader.next()\n",
    "for line in csvReader:\n",
    "    #           col numer(extract), col number(CSV)\n",
    "    newrow.setCharString(0, str(line[0]))\n",
    "    newrow.setCharString(1, str(line[1]))\n",
    "    newrow.setDouble(2, floatNum((line[2])))\n",
    "    newrow.setDouble(3, floatNum((line[3])))\n",
    "    newrow.setCharString(4, str(line[9]))\n",
    "    # save date in a variable (date)\n",
    "    date = datetime.datetime.strptime(line[18], '%d.%m.%Y')\n",
    "    newrow.setDate(5, date.year, date.month, date.day)\n",
    "    newrow.setDouble(6, floatNum((line[22])))\n",
    "    newrow.setDouble(7, floatNum((line[20])))\n",
    "    newrow.setInteger(8, int(line[17]))\n",
    "    newrow.setCharString(9, str(line[6]))\n",
    "    table.insert(newrow)\n",
    " \n",
    "#Step 5: Close the tde\n",
    "tdefile.close()"
   ]
  }
 ],
 "metadata": {
  "kernelspec": {
   "display_name": "Python 3",
   "language": "python",
   "name": "python3"
  },
  "language_info": {
   "codemirror_mode": {
    "name": "ipython",
    "version": 3
   },
   "file_extension": ".py",
   "mimetype": "text/x-python",
   "name": "python",
   "nbconvert_exporter": "python",
   "pygments_lexer": "ipython3",
   "version": "3.4.3"
  }
 },
 "nbformat": 4,
 "nbformat_minor": 0
}
