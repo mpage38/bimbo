{
 "cells": [
  {
   "cell_type": "markdown",
   "metadata": {},
   "source": [
    "## Grupo Bimbo Inventory Demand\n",
    "https://www.kaggle.com/c/grupo-bimbo-inventory-demand\n",
    "\n",
    "E-commerce website: http://blumonpay.net/bimbo/"
   ]
  },
  {
   "cell_type": "code",
   "execution_count": 1,
   "metadata": {
    "collapsed": true
   },
   "outputs": [],
   "source": [
    "dir = \"C:/github/kaggle-fiddling/bimbo/\""
   ]
  },
  {
   "cell_type": "code",
   "execution_count": 2,
   "metadata": {
    "collapsed": false
   },
   "outputs": [
    {
     "data": {
      "text/plain": [
       "8"
      ]
     },
     "execution_count": 2,
     "metadata": {},
     "output_type": "execute_result"
    }
   ],
   "source": [
    "import numpy as np \n",
    "import pandas as pd \n",
    "import bcolz\n",
    "\n",
    "#import ipython_memory_usage as imu\n",
    "#imu.start_watching_memory()\n",
    "\n",
    "bcolz.blosc_set_nthreads(8)"
   ]
  },
  {
   "cell_type": "code",
   "execution_count": 3,
   "metadata": {
    "collapsed": false
   },
   "outputs": [],
   "source": [
    "# read from CSV ; comment-in next lines when done\n",
    "train = pd.read_csv(dir + 'train.csv', dtype={\n",
    "    'Semana': np.int8,\n",
    "    'Agencia_ID': np.int32,\n",
    "    'Canal_ID': np.int16,\n",
    "    'Ruta_SAK': np.int16,\n",
    "    'Cliente_ID': np.int64,\n",
    "    'Producto_ID': np.int32,\n",
    "    'Venta_uni_hoy': np.int16,\n",
    "    'Venta_hoy': np.float16,\n",
    "    'Dev_uni_proxima': np.int32,\n",
    "    'Dev_proxima': np.float16,\n",
    "    'Demanda_uni_equil': np.int16\n",
    "})"
   ]
  },
  {
   "cell_type": "code",
   "execution_count": 4,
   "metadata": {
    "collapsed": false
   },
   "outputs": [
    {
     "data": {
      "text/plain": [
       "ctable((74180464,), [('Semana', 'i1'), ('Agencia_ID', '<i4'), ('Canal_ID', '<i2'), ('Ruta_SAK', '<i2'), ('Cliente_ID', '<i8'), ('Producto_ID', '<i4'), ('Venta_uni_hoy', '<i2'), ('Venta_hoy', '<f2'), ('Dev_uni_proxima', '<i4'), ('Dev_proxima', '<f2'), ('Demanda_uni_equil', '<i2')])\n",
       "  nbytes: 2.28 GB; cbytes: 586.13 MB; ratio: 3.98\n",
       "  cparams := cparams(clevel=5, shuffle=1, cname='blosclz')\n",
       "  rootdir := 'C:/github/kaggle-fiddling/bimbo/train.bcolz'\n",
       "[(3, 1110, 7, 3301, 15766, 1212, 3, 25.140625, 0, 0.0, 3)\n",
       " (3, 1110, 7, 3301, 15766, 1216, 4, 33.53125, 0, 0.0, 4)\n",
       " (3, 1110, 7, 3301, 15766, 1238, 4, 39.3125, 0, 0.0, 4) ...,\n",
       " (9, 25759, 1, 5517, 4528866, 45112, 4, 51.0, 0, 0.0, 4)\n",
       " (9, 25759, 1, 5517, 4547943, 40217, 3, 26.9375, 3, 26.9375, 0)\n",
       " (9, 25759, 1, 5517, 4708097, 43159, 1, 10.3984375, 0, 0.0, 1)]"
      ]
     },
     "execution_count": 4,
     "metadata": {},
     "output_type": "execute_result"
    }
   ],
   "source": [
    "# generate bcolz file; comment-in next lines when done\n",
    "\n",
    "zTrain = bcolz.ctable.fromdataframe(train)\n",
    "zTrain.copy(rootdir=dir+\"train.bcolz\", mode='w')"
   ]
  },
  {
   "cell_type": "code",
   "execution_count": null,
   "metadata": {
    "collapsed": true
   },
   "outputs": [],
   "source": [
    "# once bcolz file has been generated, load it in the following way:\n",
    "\n",
    "trainBZ = bcolz.ctable(rootdir = dir+\"train.bcolz\")\n",
    "train = trainBZ.todataframe()"
   ]
  },
  {
   "cell_type": "code",
   "execution_count": 5,
   "metadata": {
    "collapsed": false
   },
   "outputs": [
    {
     "data": {
      "text/html": [
       "<div>\n",
       "<table border=\"1\" class=\"dataframe\">\n",
       "  <thead>\n",
       "    <tr style=\"text-align: right;\">\n",
       "      <th></th>\n",
       "      <th>Demanda_uni_equil</th>\n",
       "    </tr>\n",
       "    <tr>\n",
       "      <th>Semana</th>\n",
       "      <th></th>\n",
       "    </tr>\n",
       "  </thead>\n",
       "  <tbody>\n",
       "    <tr>\n",
       "      <th>3</th>\n",
       "      <td>77664309.0</td>\n",
       "    </tr>\n",
       "    <tr>\n",
       "      <th>4</th>\n",
       "      <td>79618866.0</td>\n",
       "    </tr>\n",
       "    <tr>\n",
       "      <th>5</th>\n",
       "      <td>77610637.0</td>\n",
       "    </tr>\n",
       "    <tr>\n",
       "      <th>6</th>\n",
       "      <td>73851129.0</td>\n",
       "    </tr>\n",
       "    <tr>\n",
       "      <th>7</th>\n",
       "      <td>76597014.0</td>\n",
       "    </tr>\n",
       "    <tr>\n",
       "      <th>8</th>\n",
       "      <td>75525105.0</td>\n",
       "    </tr>\n",
       "    <tr>\n",
       "      <th>9</th>\n",
       "      <td>75054450.0</td>\n",
       "    </tr>\n",
       "  </tbody>\n",
       "</table>\n",
       "</div>"
      ],
      "text/plain": [
       "        Demanda_uni_equil\n",
       "Semana                   \n",
       "3              77664309.0\n",
       "4              79618866.0\n",
       "5              77610637.0\n",
       "6              73851129.0\n",
       "7              76597014.0\n",
       "8              75525105.0\n",
       "9              75054450.0"
      ]
     },
     "execution_count": 5,
     "metadata": {},
     "output_type": "execute_result"
    }
   ],
   "source": [
    "train[['Semana','Demanda_uni_equil']].groupby('Semana').sum()"
   ]
  },
  {
   "cell_type": "markdown",
   "metadata": {},
   "source": [
    "<img src=\"demanda-semana.png\" alt=\"Demand / week\" width=\"240\" height=\"391\">"
   ]
  },
  {
   "cell_type": "markdown",
   "metadata": {
    "collapsed": true
   },
   "source": [
    "Observations:\n",
    "- wk 1 = January 1st ?\n",
    "- no clear trend\n",
    "- drop in wk 6: holidays ? \n",
    "- Mexico is a US-oriented touristic country. demand peek connected to US tourists ? to check this hypothesis, analyze geographical distribution using town_states.csv "
   ]
  }
 ],
 "metadata": {
  "kernelspec": {
   "display_name": "Python 3",
   "language": "python",
   "name": "python3"
  },
  "language_info": {
   "codemirror_mode": {
    "name": "ipython",
    "version": 3
   },
   "file_extension": ".py",
   "mimetype": "text/x-python",
   "name": "python",
   "nbconvert_exporter": "python",
   "pygments_lexer": "ipython3",
   "version": "3.4.3"
  }
 },
 "nbformat": 4,
 "nbformat_minor": 0
}
